{
 "cells": [
  {
   "cell_type": "code",
   "execution_count": 1,
   "metadata": {
    "collapsed": false
   },
   "outputs": [
    {
     "name": "stdout",
     "output_type": "stream",
     "text": [
      "<pyspark.context.SparkContext object at 0x7fe7c39bd080>\n"
     ]
    }
   ],
   "source": [
    "from pyspark.sql import SQLContext\n",
    "from pyspark.sql.types import *\n",
    "from pyspark.sql import functions\n",
    "sqlContext = SQLContext\n",
    "print(sc)"
   ]
  },
  {
   "cell_type": "code",
   "execution_count": 2,
   "metadata": {
    "collapsed": false
   },
   "outputs": [
    {
     "data": {
      "text/plain": [
       "DataFrame[GLOBALEVENTID: string, SQLDATE: int, MonthYear: int, Year: int, FractionDate: float, Actor1Code: string, Actor1Name: string, Actor1CountryCode: string, Actor1KnownGroupCode: string, Actor1EthnicCoe: string, Actor1Religion1Code: string, Actor1Religion2Code: string, Actor1Type1Code: string, Actor1Type2Code: string, Actor1Type3Code: string, Actor2Code: string, Actor2Name: string, Actor2CountryCode: string, Actor2KnownGroupCode: string, Actor2EthnicCoe: string, Actor2Religion1Code: string, Actor2Religion2Code: string, Actor2Type1Code: string, Actor2Type2Code: string, Actor2Type3Code: string, IsRootEvent: string, EventCode: string, EventBaseCode: string, EventRootCode: string, QuadClass: string, GoldsteinScale: float, NumMentions: int, NumSources: int, NumArticles: int, AvgTone: float, Actor1Geo_Type: string, Actor1Geo_FullName: string, Actor1Geo_CountryCode: string, Actor1Geo_ADM1Code: string, Actor1Geo_Lat: float, Actor1Geo_Long: float, Actor1Geo_FeatureIDE: string, Actor2Geo_Type: string, Actor2Geo_FullName: string, Actor2Geo_CountryCode: string, Actor2Geo_ADM1Code: string, Actor2Geo_Lat: float, Actor2Geo_Long: float, Actor2Geo_FeatureIDE: string, ActionGeo_Type: string, ActionGeo_FullName: string, ActionGeo_CountryCode: string, ActionGeo_ADM1Code: string, ActionGeo_Lat: float, ActionGeo_Long: float, ActionGeoo_FeatureIDE: string, DATEADDED: int, SOURCEURL: string]"
      ]
     },
     "execution_count": 2,
     "metadata": {},
     "output_type": "execute_result"
    }
   ],
   "source": [
    "schema = StructType([\n",
    "        StructField(\"GLOBALEVENTID\", StringType(), True),\n",
    "        StructField(\"SQLDATE\", IntegerType(), True),\n",
    "        StructField(\"MonthYear\", IntegerType(), True),\n",
    "        StructField(\"Year\", IntegerType(), True),\n",
    "        StructField(\"FractionDate\", FloatType(), True),\n",
    "        StructField(\"Actor1Code\", StringType(), True),\n",
    "        StructField(\"Actor1Name\", StringType(), True),\n",
    "        StructField(\"Actor1CountryCode\", StringType(), True),\n",
    "        StructField(\"Actor1KnownGroupCode\", StringType(), True),\n",
    "        StructField(\"Actor1EthnicCoe\", StringType(), True),\n",
    "        StructField(\"Actor1Religion1Code\", StringType(), True),\n",
    "        StructField(\"Actor1Religion2Code\", StringType(), True),\n",
    "        StructField(\"Actor1Type1Code\", StringType(), True),\n",
    "        StructField(\"Actor1Type2Code\", StringType(), True),\n",
    "        StructField(\"Actor1Type3Code\", StringType(), True),\n",
    "        StructField(\"Actor2Code\", StringType(), True),\n",
    "        StructField(\"Actor2Name\", StringType(), True),\n",
    "        StructField(\"Actor2CountryCode\", StringType(), True),        \n",
    "        StructField(\"Actor2KnownGroupCode\", StringType(), True),\n",
    "        StructField(\"Actor2EthnicCoe\", StringType(), True),\n",
    "        StructField(\"Actor2Religion1Code\", StringType(), True),\n",
    "        StructField(\"Actor2Religion2Code\", StringType(), True),\n",
    "        StructField(\"Actor2Type1Code\", StringType(), True),\n",
    "        StructField(\"Actor2Type2Code\", StringType(), True),\n",
    "        StructField(\"Actor2Type3Code\", StringType(), True),\n",
    "        StructField(\"IsRootEvent\", StringType(), True),\n",
    "        StructField(\"EventCode\", StringType(), True),\n",
    "        StructField(\"EventBaseCode\", StringType(), True),\n",
    "        StructField(\"EventRootCode\", StringType(), True),\n",
    "        StructField(\"QuadClass\", StringType(), True),\n",
    "        StructField(\"GoldsteinScale\", FloatType(), True),\n",
    "        StructField(\"NumMentions\", IntegerType(), True),\n",
    "        StructField(\"NumSources\", IntegerType(), True),\n",
    "        StructField(\"NumArticles\", IntegerType(), True),\n",
    "        StructField(\"AvgTone\", FloatType(), True),\n",
    "        StructField(\"Actor1Geo_Type\", StringType(), True),\n",
    "        StructField(\"Actor1Geo_FullName\", StringType(), True),\n",
    "        StructField(\"Actor1Geo_CountryCode\", StringType(), True),\n",
    "        StructField(\"Actor1Geo_ADM1Code\", StringType(), True),\n",
    "        StructField(\"Actor1Geo_Lat\", FloatType(), True),\n",
    "        StructField(\"Actor1Geo_Long\", FloatType(), True),\n",
    "        StructField(\"Actor1Geo_FeatureIDE\", StringType(), True),\n",
    "        StructField(\"Actor2Geo_Type\", StringType(), True),\n",
    "        StructField(\"Actor2Geo_FullName\", StringType(), True),\n",
    "        StructField(\"Actor2Geo_CountryCode\", StringType(), True),\n",
    "        StructField(\"Actor2Geo_ADM1Code\", StringType(), True),\n",
    "        StructField(\"Actor2Geo_Lat\", FloatType(), True),\n",
    "        StructField(\"Actor2Geo_Long\", FloatType(), True),\n",
    "        StructField(\"Actor2Geo_FeatureIDE\", StringType(), True),\n",
    "        StructField(\"ActionGeo_Type\", StringType(), True),\n",
    "        StructField(\"ActionGeo_FullName\", StringType(), True),\n",
    "        StructField(\"ActionGeo_CountryCode\", StringType(), True),\n",
    "        StructField(\"ActionGeo_ADM1Code\", StringType(), True),\n",
    "        StructField(\"ActionGeo_Lat\", FloatType(), True),\n",
    "        StructField(\"ActionGeo_Long\", FloatType(), True),\n",
    "        StructField(\"ActionGeoo_FeatureIDE\", StringType(), True),\n",
    "        StructField(\"DATEADDED\", IntegerType(), True),\n",
    "        StructField(\"SOURCEURL\", StringType(), True),\n",
    "    ])\n",
    "\n",
    "raw = spark.read.csv(\"file:///home/javi/masterdatascience/TFM/pruebas/gdelt/unzipped/*\", header=False, schema = schema, sep = '\\t')\n",
    "raw\n",
    "\n",
    "# Es importante que en la ruta unicamente esten los archivos .csv"
   ]
  },
  {
   "cell_type": "code",
   "execution_count": 8,
   "metadata": {
    "collapsed": false
   },
   "outputs": [
    {
     "ename": "AssertionError",
     "evalue": "col should be Column",
     "output_type": "error",
     "traceback": [
      "\u001b[1;31m---------------------------------------------------------------------------\u001b[0m",
      "\u001b[1;31mAssertionError\u001b[0m                            Traceback (most recent call last)",
      "\u001b[1;32m<ipython-input-8-bb22301bbba3>\u001b[0m in \u001b[0;36m<module>\u001b[1;34m()\u001b[0m\n\u001b[0;32m      4\u001b[0m         \u001b[1;33m.\u001b[0m\u001b[0mfilter\u001b[0m\u001b[1;33m(\u001b[0m\u001b[1;34m\"EventCode IN ('0233', '0234', '0256', '0333', '0334', '0356', '073', '074', '1033', '1034', '1056') OR EventRootCode IN ('18', '19', '20')\"\u001b[0m \u001b[1;33m)\u001b[0m\u001b[0;31m\\\u001b[0m\u001b[1;33m\u001b[0m\u001b[0m\n\u001b[0;32m      5\u001b[0m         \u001b[1;33m.\u001b[0m\u001b[0mwithColumn\u001b[0m\u001b[1;33m(\u001b[0m\u001b[1;34m'ImportanceTone'\u001b[0m\u001b[1;33m,\u001b[0m \u001b[0mraw\u001b[0m\u001b[1;33m.\u001b[0m\u001b[0mAvgTone\u001b[0m\u001b[1;33m*\u001b[0m\u001b[0mraw\u001b[0m\u001b[1;33m.\u001b[0m\u001b[0mNumArticles\u001b[0m\u001b[1;33m)\u001b[0m\u001b[0;31m\\\u001b[0m\u001b[1;33m\u001b[0m\u001b[0m\n\u001b[1;32m----> 6\u001b[1;33m         \u001b[1;33m.\u001b[0m\u001b[0mwithColumn\u001b[0m\u001b[1;33m(\u001b[0m\u001b[1;34m'numRecords'\u001b[0m\u001b[1;33m,\u001b[0m \u001b[1;36m1\u001b[0m\u001b[1;33m)\u001b[0m\u001b[0;31m\\\u001b[0m\u001b[1;33m\u001b[0m\u001b[0m\n\u001b[0m\u001b[0;32m      7\u001b[0m         \u001b[1;33m.\u001b[0m\u001b[0mgroupBy\u001b[0m\u001b[1;33m(\u001b[0m\u001b[1;34m'Actor1CountryCode'\u001b[0m\u001b[1;33m,\u001b[0m \u001b[1;34m'SQLDATE'\u001b[0m\u001b[1;33m,\u001b[0m \u001b[1;34m'Actor1Geo_Lat'\u001b[0m\u001b[1;33m,\u001b[0m \u001b[1;34m'Actor1Geo_Long'\u001b[0m\u001b[1;33m,\u001b[0m \u001b[1;34m'EventRootCode'\u001b[0m\u001b[1;33m,\u001b[0m \u001b[1;34m'EventCode'\u001b[0m\u001b[1;33m)\u001b[0m\u001b[0;31m\\\u001b[0m\u001b[1;33m\u001b[0m\u001b[0m\n\u001b[0;32m      8\u001b[0m         \u001b[1;33m.\u001b[0m\u001b[0msum\u001b[0m\u001b[1;33m(\u001b[0m\u001b[1;34m'ImportanceTone'\u001b[0m\u001b[1;33m,\u001b[0m \u001b[1;34m'NumArticles'\u001b[0m\u001b[1;33m,\u001b[0m \u001b[1;34m'numRecords'\u001b[0m\u001b[1;33m)\u001b[0m\u001b[1;33m\u001b[0m\u001b[0m\n",
      "\u001b[1;32m/home/javi/spark-2.0.0-bin-hadoop2.6/python/pyspark/sql/dataframe.py\u001b[0m in \u001b[0;36mwithColumn\u001b[1;34m(self, colName, col)\u001b[0m\n\u001b[0;32m   1370\u001b[0m         \u001b[1;33m[\u001b[0m\u001b[0mRow\u001b[0m\u001b[1;33m(\u001b[0m\u001b[0mage\u001b[0m\u001b[1;33m=\u001b[0m\u001b[1;36m2\u001b[0m\u001b[1;33m,\u001b[0m \u001b[0mname\u001b[0m\u001b[1;33m=\u001b[0m\u001b[1;34mu'Alice'\u001b[0m\u001b[1;33m,\u001b[0m \u001b[0mage2\u001b[0m\u001b[1;33m=\u001b[0m\u001b[1;36m4\u001b[0m\u001b[1;33m)\u001b[0m\u001b[1;33m,\u001b[0m \u001b[0mRow\u001b[0m\u001b[1;33m(\u001b[0m\u001b[0mage\u001b[0m\u001b[1;33m=\u001b[0m\u001b[1;36m5\u001b[0m\u001b[1;33m,\u001b[0m \u001b[0mname\u001b[0m\u001b[1;33m=\u001b[0m\u001b[1;34mu'Bob'\u001b[0m\u001b[1;33m,\u001b[0m \u001b[0mage2\u001b[0m\u001b[1;33m=\u001b[0m\u001b[1;36m7\u001b[0m\u001b[1;33m)\u001b[0m\u001b[1;33m]\u001b[0m\u001b[1;33m\u001b[0m\u001b[0m\n\u001b[0;32m   1371\u001b[0m         \"\"\"\n\u001b[1;32m-> 1372\u001b[1;33m         \u001b[1;32massert\u001b[0m \u001b[0misinstance\u001b[0m\u001b[1;33m(\u001b[0m\u001b[0mcol\u001b[0m\u001b[1;33m,\u001b[0m \u001b[0mColumn\u001b[0m\u001b[1;33m)\u001b[0m\u001b[1;33m,\u001b[0m \u001b[1;34m\"col should be Column\"\u001b[0m\u001b[1;33m\u001b[0m\u001b[0m\n\u001b[0m\u001b[0;32m   1373\u001b[0m         \u001b[1;32mreturn\u001b[0m \u001b[0mDataFrame\u001b[0m\u001b[1;33m(\u001b[0m\u001b[0mself\u001b[0m\u001b[1;33m.\u001b[0m\u001b[0m_jdf\u001b[0m\u001b[1;33m.\u001b[0m\u001b[0mwithColumn\u001b[0m\u001b[1;33m(\u001b[0m\u001b[0mcolName\u001b[0m\u001b[1;33m,\u001b[0m \u001b[0mcol\u001b[0m\u001b[1;33m.\u001b[0m\u001b[0m_jc\u001b[0m\u001b[1;33m)\u001b[0m\u001b[1;33m,\u001b[0m \u001b[0mself\u001b[0m\u001b[1;33m.\u001b[0m\u001b[0msql_ctx\u001b[0m\u001b[1;33m)\u001b[0m\u001b[1;33m\u001b[0m\u001b[0m\n\u001b[0;32m   1374\u001b[0m \u001b[1;33m\u001b[0m\u001b[0m\n",
      "\u001b[1;31mAssertionError\u001b[0m: col should be Column"
     ]
    }
   ],
   "source": [
    "data = raw.select('Actor1CountryCode','Actor2CountryCode','AvgTone','NumArticles','SQLDATE', 'Actor1Geo_Lat', 'Actor1Geo_Long', 'ActionGeo_CountryCode', 'EventCode', \n",
    "                  'EventRootCode', 'Actor1Geo_CountryCode', 'Actor2Geo_CountryCode')\\\n",
    "        .filter(\"ActionGeo_CountryCode == 'SY'\")\\\n",
    "        .filter(\"EventCode IN ('0233', '0234', '0256', '0333', '0334', '0356', '073', '074', '1033', '1034', '1056') OR EventRootCode IN ('18', '19', '20')\" )\\\n",
    "        .withColumn('ImportanceTone', raw.AvgTone*raw.NumArticles)\\\n",
    "        .groupBy('Actor1CountryCode', 'SQLDATE', 'Actor1Geo_Lat', 'Actor1Geo_Long', 'EventRootCode', 'EventCode')\\\n",
    "        .sum('ImportanceTone', 'NumArticles')\n",
    "        \n",
    "data"
   ]
  },
  {
   "cell_type": "code",
   "execution_count": 5,
   "metadata": {
    "collapsed": false
   },
   "outputs": [
    {
     "data": {
      "text/plain": [
       "8960662"
      ]
     },
     "execution_count": 5,
     "metadata": {},
     "output_type": "execute_result"
    }
   ],
   "source": [
    "raw.count()"
   ]
  },
  {
   "cell_type": "code",
   "execution_count": 6,
   "metadata": {
    "collapsed": false
   },
   "outputs": [],
   "source": [
    "data.repartition(1)\\\n",
    "    .write.option('header', 'true')\\\n",
    "    .csv('/home/javi/masterdatascience/TFM/data70')"
   ]
  },
  {
   "cell_type": "code",
   "execution_count": null,
   "metadata": {
    "collapsed": true
   },
   "outputs": [],
   "source": []
  }
 ],
 "metadata": {
  "kernelspec": {
   "display_name": "Python 3",
   "language": "python",
   "name": "python3"
  },
  "language_info": {
   "codemirror_mode": {
    "name": "ipython",
    "version": 3
   },
   "file_extension": ".py",
   "mimetype": "text/x-python",
   "name": "python",
   "nbconvert_exporter": "python",
   "pygments_lexer": "ipython3",
   "version": "3.5.1"
  }
 },
 "nbformat": 4,
 "nbformat_minor": 0
}
