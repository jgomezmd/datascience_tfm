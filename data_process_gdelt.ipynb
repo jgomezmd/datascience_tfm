{
 "cells": [
  {
   "cell_type": "code",
   "execution_count": 38,
   "metadata": {
    "collapsed": false
   },
   "outputs": [
    {
     "name": "stdout",
     "output_type": "stream",
     "text": [
      "<pyspark.context.SparkContext object at 0x7f9d62ffb0b8>\n"
     ]
    }
   ],
   "source": [
    "from pyspark.sql import SQLContext\n",
    "from pyspark.sql.types import *\n",
    "from pyspark.sql import functions\n",
    "sqlContext = SQLContext\n",
    "print(sc)"
   ]
  },
  {
   "cell_type": "code",
   "execution_count": 46,
   "metadata": {
    "collapsed": false,
    "scrolled": true
   },
   "outputs": [
    {
     "data": {
      "text/plain": [
       "DataFrame[GLOBALEVENTID: string, date: int, MonthYear: int, Year: int, FractionDate: float, Actor1Code: string, Actor1Name: string, Actor1CountryCode: string, Actor1KnownGroupCode: string, Actor1EthnicCoe: string, Actor1Religion1Code: string, Actor1Religion2Code: string, Actor1Type1Code: string, Actor1Type2Code: string, Actor1Type3Code: string, Actor2Code: string, Actor2Name: string, Actor2CountryCode: string, Actor2KnownGroupCode: string, Actor2EthnicCoe: string, Actor2Religion1Code: string, Actor2Religion2Code: string, Actor2Type1Code: string, Actor2Type2Code: string, Actor2Type3Code: string, IsRootEvent: string, EventCode: string, EventBaseCode: string, EventRootCode: string, QuadClass: string, GoldsteinScale: float, NumMentions: int, NumSources: int, NumArticles: int, AvgTone: float, Actor1Geo_Type: string, Actor1Geo_FullName: string, Actor1Geo_CountryCode: string, Actor1Geo_ADM1Code: string, Actor1Geo_Lat: float, Actor1Geo_Long: float, Actor1Geo_FeatureIDE: string, Actor2Geo_Type: string, Actor2Geo_FullName: string, Actor2Geo_CountryCode: string, Actor2Geo_ADM1Code: string, Actor2Geo_Lat: float, Actor2Geo_Long: float, Actor2Geo_FeatureIDE: string, ActionGeo_Type: string, ActionGeo_FullName: string, ActionGeo_CountryCode: string, ActionGeo_ADM1Code: string, ActionGeo_Lat: float, ActionGeo_Long: float, ActionGeoo_FeatureIDE: string, DATEADDED: int, SOURCEURL: string]"
      ]
     },
     "execution_count": 46,
     "metadata": {},
     "output_type": "execute_result"
    }
   ],
   "source": [
    "schema = StructType([\n",
    "        StructField(\"GLOBALEVENTID\", StringType(), True),\n",
    "        StructField(\"date\", IntegerType(), True),\n",
    "        StructField(\"MonthYear\", IntegerType(), True),\n",
    "        StructField(\"Year\", IntegerType(), True),\n",
    "        StructField(\"FractionDate\", FloatType(), True),\n",
    "        StructField(\"Actor1Code\", StringType(), True),\n",
    "        StructField(\"Actor1Name\", StringType(), True),\n",
    "        StructField(\"Actor1CountryCode\", StringType(), True),\n",
    "        StructField(\"Actor1KnownGroupCode\", StringType(), True),\n",
    "        StructField(\"Actor1EthnicCoe\", StringType(), True),\n",
    "        StructField(\"Actor1Religion1Code\", StringType(), True),\n",
    "        StructField(\"Actor1Religion2Code\", StringType(), True),\n",
    "        StructField(\"Actor1Type1Code\", StringType(), True),\n",
    "        StructField(\"Actor1Type2Code\", StringType(), True),\n",
    "        StructField(\"Actor1Type3Code\", StringType(), True),\n",
    "        StructField(\"Actor2Code\", StringType(), True),\n",
    "        StructField(\"Actor2Name\", StringType(), True),\n",
    "        StructField(\"Actor2CountryCode\", StringType(), True),        \n",
    "        StructField(\"Actor2KnownGroupCode\", StringType(), True),\n",
    "        StructField(\"Actor2EthnicCoe\", StringType(), True),\n",
    "        StructField(\"Actor2Religion1Code\", StringType(), True),\n",
    "        StructField(\"Actor2Religion2Code\", StringType(), True),\n",
    "        StructField(\"Actor2Type1Code\", StringType(), True),\n",
    "        StructField(\"Actor2Type2Code\", StringType(), True),\n",
    "        StructField(\"Actor2Type3Code\", StringType(), True),\n",
    "        StructField(\"IsRootEvent\", StringType(), True),\n",
    "        StructField(\"EventCode\", StringType(), True),\n",
    "        StructField(\"EventBaseCode\", StringType(), True),\n",
    "        StructField(\"EventRootCode\", StringType(), True),\n",
    "        StructField(\"QuadClass\", StringType(), True),\n",
    "        StructField(\"GoldsteinScale\", FloatType(), True),\n",
    "        StructField(\"NumMentions\", IntegerType(), True),\n",
    "        StructField(\"NumSources\", IntegerType(), True),\n",
    "        StructField(\"NumArticles\", IntegerType(), True),\n",
    "        StructField(\"AvgTone\", FloatType(), True),\n",
    "        StructField(\"Actor1Geo_Type\", StringType(), True),\n",
    "        StructField(\"Actor1Geo_FullName\", StringType(), True),\n",
    "        StructField(\"Actor1Geo_CountryCode\", StringType(), True),\n",
    "        StructField(\"Actor1Geo_ADM1Code\", StringType(), True),\n",
    "        StructField(\"Actor1Geo_Lat\", FloatType(), True),\n",
    "        StructField(\"Actor1Geo_Long\", FloatType(), True),\n",
    "        StructField(\"Actor1Geo_FeatureIDE\", StringType(), True),\n",
    "        StructField(\"Actor2Geo_Type\", StringType(), True),\n",
    "        StructField(\"Actor2Geo_FullName\", StringType(), True),\n",
    "        StructField(\"Actor2Geo_CountryCode\", StringType(), True),\n",
    "        StructField(\"Actor2Geo_ADM1Code\", StringType(), True),\n",
    "        StructField(\"Actor2Geo_Lat\", FloatType(), True),\n",
    "        StructField(\"Actor2Geo_Long\", FloatType(), True),\n",
    "        StructField(\"Actor2Geo_FeatureIDE\", StringType(), True),\n",
    "        StructField(\"ActionGeo_Type\", StringType(), True),\n",
    "        StructField(\"ActionGeo_FullName\", StringType(), True),\n",
    "        StructField(\"ActionGeo_CountryCode\", StringType(), True),\n",
    "        StructField(\"ActionGeo_ADM1Code\", StringType(), True),\n",
    "        StructField(\"ActionGeo_Lat\", FloatType(), True),\n",
    "        StructField(\"ActionGeo_Long\", FloatType(), True),\n",
    "        StructField(\"ActionGeoo_FeatureIDE\", StringType(), True),\n",
    "        StructField(\"DATEADDED\", IntegerType(), True),\n",
    "        StructField(\"SOURCEURL\", StringType(), True),\n",
    "    ])\n",
    "\n",
    "raw = spark.read.csv(\"file:///home/javi/masterdatascience/TFM/data_bigquery/*\", header=True, schema = schema, sep = ',')\n",
    "\n",
    "raw\n",
    "# Es importante que en la ruta unicamente esten los archivos .csv"
   ]
  },
  {
   "cell_type": "code",
   "execution_count": 50,
   "metadata": {
    "collapsed": false
   },
   "outputs": [],
   "source": [
    "data = raw.select('AvgTone','NumArticles','date', 'EventCode', 'EventRootCode', 'SOURCEURL', 'ActionGeo_CountryCode')\\\n",
    "        .filter(\"ActionGeo_CountryCode == 'SY'\")\\\n",
    "        .filter(\"date >= 20110000 AND date <= 20160831\")\\\n",
    "        .withColumn('ImportanceTone', raw.AvgTone*raw.NumArticles)\\\n",
    "        .sort('date', 'EventRootCode','EventCode', 'NumArticles')\\\n",
    "        .groupBy('date', 'EventRootCode', 'EventCode')\\\n",
    "        .agg(functions.last('NumArticles').alias('importanceArticle'),\\\n",
    "             functions.last('SOURCEURL').alias('maxArticle'),\\\n",
    "             functions.sum('NumArticles').alias('sumNumArticles'),\\\n",
    "             functions.sum('ImportanceTone').alias('sumImportanceTone'),\\\n",
    "             functions.last('AvgTone').alias('importanceTone'))\n",
    "\n",
    "data.repartition(1)\\\n",
    "    .write.option('header', 'true')\\\n",
    "    .csv('/home/javi/masterdatascience/TFM/data_bigquery_processed')"
   ]
  },
  {
   "cell_type": "code",
   "execution_count": null,
   "metadata": {
    "collapsed": true
   },
   "outputs": [],
   "source": []
  }
 ],
 "metadata": {
  "kernelspec": {
   "display_name": "Python 3",
   "language": "python",
   "name": "python3"
  },
  "language_info": {
   "codemirror_mode": {
    "name": "ipython",
    "version": 3
   },
   "file_extension": ".py",
   "mimetype": "text/x-python",
   "name": "python",
   "nbconvert_exporter": "python",
   "pygments_lexer": "ipython3",
   "version": "3.5.1"
  }
 },
 "nbformat": 4,
 "nbformat_minor": 0
}
